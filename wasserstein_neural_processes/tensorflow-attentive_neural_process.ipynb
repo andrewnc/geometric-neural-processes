{
 "cells": [
  {
   "cell_type": "markdown",
   "metadata": {
    "colab_type": "text",
    "id": "eQ7K9blSUKTs"
   },
   "source": [
    "Copyright 2019 Google LLC\n",
    "\n",
    "Licensed under the Apache License, Version 2.0 (the \"License\"); you may not use this file except in compliance with the License. You may obtain a copy of the License at\n",
    "\n",
    "https://www.apache.org/licenses/LICENSE-2.0\n",
    "\n",
    "Unless required by applicable law or agreed to in writing, software distributed under the License is distributed on an \"AS IS\" BASIS, WITHOUT WARRANTIES OR CONDITIONS OF ANY KIND, either express or implied. See the License for the specific language governing permissions and limitations under the License.\n",
    "\n",
    "# (Attentive) Neural Processes for 1D regression\n",
    "\n",
    "Regression is usually cast as modelling the distribution of output **y** given input **x** via a deterministic function, such as a neural network, taking **x** as input. In this setting, the model is trained on a dataset of input-output pairs, and predictions of the outputs are independent of each other given the inputs. An alternative approach to regression involves using the training data to compute a distribution over functions that map inputs to outputs, and using draws from that distribution to make predictions on test inputs. This approach allows for reasoning about multiple functions consistent with the data, and can capture the co-variability in outputs given inputs. In the Bayesian machine learning literature, non-parametric models such as Gaussian Processes (GPs) are popular choices of this approach.\n",
    "\n",
    "[Neural Processes](https://arxiv.org/abs/1807.01622) (NPs) also approach regression by modelling a distribution over regression functions. Each function models the distribution of the output given an input, conditioning on some observed input-output pairs, which we call the context. Modelling this distribution over functions was made possible by incorporating a latent variable to the [Conditional Neural Process](https://arxiv.org/abs/1807.01613) (CNP). \n",
    "\n",
    "However NPs suffer from underfitting, giving inaccurate predictions at the inputs of the observed data they condition on. Hence [Attentive Neural Processes](https://arxiv.org/abs/1901.05761) (ANPs) were introduced, addressing this issue by incorporating attention into NPs. We share the implementation of ANPs (and NPs, which is a special case of ANP with uniform attention) for a 1D regression task where (A)NPs are trained on random 1D functions."
   ]
  },
  {
   "cell_type": "markdown",
   "metadata": {
    "colab_type": "text",
    "id": "UMJxjfsTa08h"
   },
   "source": [
    "## Imports"
   ]
  },
  {
   "cell_type": "code",
   "execution_count": 1,
   "metadata": {
    "colab": {},
    "colab_type": "code",
    "id": "Ncb7M0FpNfix"
   },
   "outputs": [],
   "source": [
    "import tensorflow as tf\n",
    "import numpy as np\n",
    "import matplotlib.pyplot as plt\n",
    "import collections"
   ]
  },
  {
   "cell_type": "markdown",
   "metadata": {
    "colab_type": "text",
    "id": "ARGYAmEsa5K7"
   },
   "source": [
    "## Data generator\n",
    "Instead of training using observations from a single function (as in classic regression tasks), we would like to train on a dataset that comes from multiple functions with shared characteristics. Hence for training, we use data that comes from a Gaussian Process (GP) with randomly varying kernel parameters.  At each training iteration, we sample a batch of random kernel parameters, and for each parameter setting we sample a curve (a realisation) from the corresponding GP. We select random points on each curve to be the targets and a subset to be the contexts for optimising the training loss. The data generation is almost the same as for the [implementation of CNPs](https://github.com/deepmind/conditional-neural-process/blob/master/conditional_neural_process.ipynb), but with kernel parameters varying randomly at each iteration."
   ]
  },
  {
   "cell_type": "code",
   "execution_count": 2,
   "metadata": {
    "colab": {},
    "colab_type": "code",
    "id": "Px-atGEfNnWT"
   },
   "outputs": [],
   "source": [
    "# The (A)NP takes as input a `NPRegressionDescription` namedtuple with fields:\n",
    "#   `query`: a tuple containing ((context_x, context_y), target_x)\n",
    "#   `target_y`: a tensor containing the ground truth for the targets to be\n",
    "#     predicted\n",
    "#   `num_total_points`: A vector containing a scalar that describes the total\n",
    "#     number of datapoints used (context + target)\n",
    "#   `num_context_points`: A vector containing a scalar that describes the number\n",
    "#     of datapoints used as context\n",
    "# The GPCurvesReader returns the newly sampled data in this format at each\n",
    "# iteration\n",
    "\n",
    "NPRegressionDescription = collections.namedtuple(\n",
    "    \"NPRegressionDescription\",\n",
    "    (\"query\", \"target_y\", \"num_total_points\", \"num_context_points\"))\n",
    "\n",
    "\n",
    "class GPCurvesReader(object):\n",
    "  \"\"\"Generates curves using a Gaussian Process (GP).\n",
    "\n",
    "  Supports vector inputs (x) and vector outputs (y). Kernel is\n",
    "  mean-squared exponential, using the x-value l2 coordinate distance scaled by\n",
    "  some factor chosen randomly in a range. Outputs are independent gaussian\n",
    "  processes.\n",
    "  \"\"\"\n",
    "\n",
    "  def __init__(self,\n",
    "               batch_size,\n",
    "               max_num_context,\n",
    "               x_size=1,\n",
    "               y_size=1,\n",
    "               l1_scale=0.6,\n",
    "               sigma_scale=1.0,\n",
    "               random_kernel_parameters=True,\n",
    "               testing=False):\n",
    "    \"\"\"Creates a regression dataset of functions sampled from a GP.\n",
    "\n",
    "    Args:\n",
    "      batch_size: An integer.\n",
    "      max_num_context: The max number of observations in the context.\n",
    "      x_size: Integer >= 1 for length of \"x values\" vector.\n",
    "      y_size: Integer >= 1 for length of \"y values\" vector.\n",
    "      l1_scale: Float; typical scale for kernel distance function.\n",
    "      sigma_scale: Float; typical scale for variance.\n",
    "      random_kernel_parameters: If `True`, the kernel parameters (l1 and sigma) \n",
    "          will be sampled uniformly within [0.1, l1_scale] and [0.1, sigma_scale].\n",
    "      testing: Boolean that indicates whether we are testing. If so there are\n",
    "          more targets for visualization.\n",
    "    \"\"\"\n",
    "    self._batch_size = batch_size\n",
    "    self._max_num_context = max_num_context\n",
    "    self._x_size = x_size\n",
    "    self._y_size = y_size\n",
    "    self._l1_scale = l1_scale\n",
    "    self._sigma_scale = sigma_scale\n",
    "    self._random_kernel_parameters = random_kernel_parameters\n",
    "    self._testing = testing\n",
    "\n",
    "  def _gaussian_kernel(self, xdata, l1, sigma_f, sigma_noise=2e-2):\n",
    "    \"\"\"Applies the Gaussian kernel to generate curve data.\n",
    "\n",
    "    Args:\n",
    "      xdata: Tensor of shape [B, num_total_points, x_size] with\n",
    "          the values of the x-axis data.\n",
    "      l1: Tensor of shape [B, y_size, x_size], the scale\n",
    "          parameter of the Gaussian kernel.\n",
    "      sigma_f: Tensor of shape [B, y_size], the magnitude\n",
    "          of the std.\n",
    "      sigma_noise: Float, std of the noise that we add for stability.\n",
    "\n",
    "    Returns:\n",
    "      The kernel, a float tensor of shape\n",
    "      [B, y_size, num_total_points, num_total_points].\n",
    "    \"\"\"\n",
    "    num_total_points = tf.shape(xdata)[1]\n",
    "\n",
    "    # Expand and take the difference\n",
    "    xdata1 = tf.expand_dims(xdata, axis=1)  # [B, 1, num_total_points, x_size]\n",
    "    xdata2 = tf.expand_dims(xdata, axis=2)  # [B, num_total_points, 1, x_size]\n",
    "    diff = xdata1 - xdata2  # [B, num_total_points, num_total_points, x_size]\n",
    "\n",
    "    # [B, y_size, num_total_points, num_total_points, x_size]\n",
    "    norm = tf.square(diff[:, None, :, :, :] / l1[:, :, None, None, :])\n",
    "\n",
    "    norm = tf.reduce_sum(\n",
    "        norm, -1)  # [B, data_size, num_total_points, num_total_points]\n",
    "\n",
    "    # [B, y_size, num_total_points, num_total_points]\n",
    "    kernel = tf.square(sigma_f)[:, :, None, None] * tf.exp(-0.5 * norm)\n",
    "\n",
    "    # Add some noise to the diagonal to make the cholesky work.\n",
    "    kernel += (sigma_noise**2) * tf.eye(num_total_points)\n",
    "\n",
    "    return kernel\n",
    "\n",
    "  def generate_curves(self):\n",
    "    \"\"\"Builds the op delivering the data.\n",
    "\n",
    "    Generated functions are `float32` with x values between -2 and 2.\n",
    "    \n",
    "    Returns:\n",
    "      A `CNPRegressionDescription` namedtuple.\n",
    "    \"\"\"\n",
    "    num_context = tf.random_uniform(\n",
    "        shape=[], minval=3, maxval=self._max_num_context, dtype=tf.int32)\n",
    "\n",
    "    # If we are testing we want to have more targets and have them evenly\n",
    "    # distributed in order to plot the function.\n",
    "    if self._testing:\n",
    "      num_target = 400\n",
    "      num_total_points = num_target\n",
    "      x_values = tf.tile(\n",
    "          tf.expand_dims(tf.range(-2., 2., 1. / 100, dtype=tf.float32), axis=0),\n",
    "          [self._batch_size, 1])\n",
    "      x_values = tf.expand_dims(x_values, axis=-1)\n",
    "    # During training the number of target points and their x-positions are\n",
    "    # selected at random\n",
    "    else:\n",
    "      num_target = tf.random_uniform(shape=(), minval=0, \n",
    "                                     maxval=self._max_num_context - num_context,\n",
    "                                     dtype=tf.int32)\n",
    "      num_total_points = num_context + num_target\n",
    "      x_values = tf.random_uniform(\n",
    "          [self._batch_size, num_total_points, self._x_size], -2, 2)\n",
    "\n",
    "    # Set kernel parameters\n",
    "    # Either choose a set of random parameters for the mini-batch\n",
    "    if self._random_kernel_parameters:\n",
    "      l1 = tf.random_uniform([self._batch_size, self._y_size,\n",
    "                              self._x_size], 0.1, self._l1_scale)\n",
    "      sigma_f = tf.random_uniform([self._batch_size, self._y_size],\n",
    "                                  0.1, self._sigma_scale)\n",
    "    # Or use the same fixed parameters for all mini-batches\n",
    "    else:\n",
    "      l1 = tf.ones(shape=[self._batch_size, self._y_size,\n",
    "                          self._x_size]) * self._l1_scale\n",
    "      sigma_f = tf.ones(shape=[self._batch_size,\n",
    "                               self._y_size]) * self._sigma_scale\n",
    "\n",
    "    # Pass the x_values through the Gaussian kernel\n",
    "    # [batch_size, y_size, num_total_points, num_total_points]\n",
    "    kernel = self._gaussian_kernel(x_values, l1, sigma_f)\n",
    "\n",
    "    # Calculate Cholesky, using double precision for better stability:\n",
    "    cholesky = tf.cast(tf.cholesky(tf.cast(kernel, tf.float64)), tf.float32)\n",
    "\n",
    "    # Sample a curve\n",
    "    # [batch_size, y_size, num_total_points, 1]\n",
    "    y_values = tf.matmul(\n",
    "        cholesky,\n",
    "        tf.random_normal([self._batch_size, self._y_size, num_total_points, 1]))\n",
    "\n",
    "    # [batch_size, num_total_points, y_size]\n",
    "    y_values = tf.transpose(tf.squeeze(y_values, 3), [0, 2, 1])\n",
    "\n",
    "    if self._testing:\n",
    "      # Select the targets\n",
    "      target_x = x_values\n",
    "      target_y = y_values\n",
    "\n",
    "      # Select the observations\n",
    "      idx = tf.random_shuffle(tf.range(num_target))\n",
    "      context_x = tf.gather(x_values, idx[:num_context], axis=1)\n",
    "      context_y = tf.gather(y_values, idx[:num_context], axis=1)\n",
    "\n",
    "    else:\n",
    "      # Select the targets which will consist of the context points as well as\n",
    "      # some new target points\n",
    "      target_x = x_values[:, :num_target + num_context, :]\n",
    "      target_y = y_values[:, :num_target + num_context, :]\n",
    "\n",
    "      # Select the observations\n",
    "      context_x = x_values[:, :num_context, :]\n",
    "      context_y = y_values[:, :num_context, :]\n",
    "\n",
    "    query = ((context_x, context_y), target_x)\n",
    "\n",
    "    return NPRegressionDescription(\n",
    "        query=query,\n",
    "        target_y=target_y,\n",
    "        num_total_points=tf.shape(target_x)[1],\n",
    "        num_context_points=num_context)"
   ]
  },
  {
   "cell_type": "code",
   "execution_count": 3,
   "metadata": {},
   "outputs": [],
   "source": [
    "# dataset_train = GPCurvesReader(\n",
    "#     batch_size=16, max_num_context=MAX_CONTEXT_POINTS)\n",
    "# data_train = dataset_train.generate_curves()\n",
    "\n",
    "# # Test dataset\n",
    "# dataset_test = GPCurvesReader(\n",
    "#     batch_size=1, max_num_context=MAX_CONTEXT_POINTS, testing=True)\n",
    "# data_test = dataset_test.generate_curves()"
   ]
  },
  {
   "cell_type": "code",
   "execution_count": 4,
   "metadata": {},
   "outputs": [],
   "source": [
    "# sess.run(init)\n",
    "# [whole_query] = sess.run([data_train.query])\n",
    "# print(whole_query)\n",
    "\n",
    "# for it in range(TRAINING_ITERATIONS):\n",
    "# sess.run([train_step])\n",
    "\n",
    "# # Plot the predictions in `PLOT_AFTER` intervals\n",
    "# if it % PLOT_AFTER == 0:\n",
    "#   loss_value, pred_y, std_y, target_y, whole_query = sess.run(\n",
    "#       [loss, mu, sigma, data_test.target_y, \n",
    "#        data_test.query])\n",
    "\n",
    "#   (context_x, context_y), target_x = whole_query\n",
    "#   print('Iteration: {}, loss: {}'.format(it, loss_value))\n",
    "\n",
    "#   # Plot the prediction and the context\n",
    "#   plot_functions(target_x, target_y, context_x, context_y, pred_y, std_y)"
   ]
  },
  {
   "cell_type": "markdown",
   "metadata": {
    "colab_type": "text",
    "id": "GhMwui0VfmNn"
   },
   "source": [
    "## Attentive Neural Processes: a short introduction\n",
    "\n",
    "Here below are the model diagrams for the **NP** (left) and **ANP** (right).\n",
    "\n",
    "![](https://i.ibb.co/Js1B7RB/model-figure-new-1-page-001.jpg)\n",
    "\n",
    "In the NP, the **context points** $(x_C,y_C)=(x_i, y_i)_{i \\in C}$ are passed through the encoder that consists of two paths, a **deterministic path** and and a **latent path**. \n",
    "\n",
    "In the **deterministic path**, each context pair $(x_i,y_i)$ is passed through an MLP (shared parameters across the contexts) to produce representation $r_i$. These are aggregated by taking the mean to produce the deterministic code $r_C$. \n",
    "\n",
    "In the **latent path**, a code $s_C$ is computed in a similar manner from the representations $s_i$, and is used to parameterise the distribution of the latent variable $z$, giving the latent distribution $q(z|s_C)$.\n",
    "\n",
    "In the decoder, the $r_C$ and $z$ are concatenated alongside $x_*$ and passed through an MLP to produce the parameters of the distribution $p(y_*|x_*,r_C,z)$. \n",
    "\n",
    "The motivation for having a global latent is to model different realisations of the data generating stochastic process - each sample of $z$ would correspond to one realisation of the stochastic process. One can define the model using just the deterministic path, just the latent path, or both.\n",
    "\n",
    "One problem of the NP is that the **mean-aggregation step in the encoder acts as a bottleneck**: since taking the mean across context representations gives the same weight to each context point, it is difficult for the decoder to learn which context points provide relevant information for a given target prediction. \n",
    "\n",
    "This is addressed by ANPs, where the mean-aggregation is replaced by a **cross-attention mechanism** - the target query $x_*$ attends to the key-value pairs $(x_i,r_i)_{i \\in C}$ and assigns weights $w_i$ to each pair to form a query-specific representation $r_*=\\sum_i w_i r_i$. This is precisely where the model allows each query to attend more closely to the context points that it deems relevant for the prediction. Note that if we use uniform attention (all $w_i$ equal), then we revert to the NP.\n",
    "\n",
    "Another change is the **self-attention mechanism** that replaces the MLPs in the encoder, used in order to model interactions between the context points. However for the 1D regression task here, we do not use self-attention and resort to the MLP setting as it is shown to be sufficient, and just use cross-attention.\n",
    "\n",
    "Learning for both the NP and ANP is done by optimising the ELBO to the log predictive likelihood:\n",
    "\n",
    "$$\\log p(y_T|x_T,x_C,y_C)  \\geq\n",
    "\\mathbb{E}_{q(z|s_T)}  [\\log p(y_T|x_T,r_C,z)] - KL ( q(z|s_T) \\Vert q(z|s_C) )$$\n",
    "where $C$ represents contexts and $T$ represents targets."
   ]
  },
  {
   "cell_type": "code",
   "execution_count": 13,
   "metadata": {
    "colab": {},
    "colab_type": "code",
    "id": "ps97odopnvkv"
   },
   "outputs": [],
   "source": [
    "# utility methods\n",
    "def batch_mlp(input, output_sizes, variable_scope):\n",
    "  \"\"\"Apply MLP to the final axis of a 3D tensor (reusing already defined MLPs).\n",
    "  \n",
    "  Args:\n",
    "    input: input tensor of shape [B,n,d_in].\n",
    "    output_sizes: An iterable containing the output sizes of the MLP as defined \n",
    "        in `basic.Linear`.\n",
    "    variable_scope: String giving the name of the variable scope. If this is set\n",
    "        to be the same as a previously defined MLP, then the weights are reused.\n",
    "    \n",
    "  Returns:\n",
    "    tensor of shape [B,n,d_out] where d_out=output_sizes[-1]\n",
    "  \"\"\"\n",
    "  # Get the shapes of the input and reshape to parallelise across observations\n",
    "  batch_size, _, filter_size = input.shape.as_list()\n",
    "  output = tf.reshape(input, (-1, filter_size))\n",
    "  output.set_shape((None, filter_size))\n",
    "\n",
    "  # Pass through MLP\n",
    "  with tf.variable_scope(variable_scope, reuse=tf.AUTO_REUSE):\n",
    "    for i, size in enumerate(output_sizes[:-1]):\n",
    "      output = tf.nn.relu(\n",
    "          tf.layers.dense(output, size, name=\"layer_{}\".format(i)))\n",
    "\n",
    "    # Last layer without a ReLu\n",
    "    output = tf.layers.dense(\n",
    "        output, output_sizes[-1], name=\"layer_{}\".format(i + 1))\n",
    "\n",
    "  # Bring back into original shape\n",
    "  output = tf.reshape(output, (batch_size, -1, output_sizes[-1]))\n",
    "  return output"
   ]
  },
  {
   "cell_type": "markdown",
   "metadata": {
    "colab_type": "text",
    "id": "kli9cfXqt2Jf"
   },
   "source": [
    "## Encoder: Deterministic Path\n",
    "\n",
    "The encoder in the deterministic path is shared between all context pairs and consists of an MLP and an attention module. Each context $x_i$ and $y_i$ are concatenated and passed through the MLP (with relu non-linearities) to output a representation $r_i$. These $(r_i)_{i \\in C}$ and $x_i$ are fed into the cross-attention module, along with query $x_*$ to output a query-specific representation $r_*$. The MLP architecture is given by the `output_sizes` argument, a list of hidden layer sizes, and the `attention` argument which is the cross-attention module defined later on."
   ]
  },
  {
   "cell_type": "code",
   "execution_count": 14,
   "metadata": {
    "colab": {},
    "colab_type": "code",
    "id": "yXdB68gkPwy2"
   },
   "outputs": [],
   "source": [
    "class DeterministicEncoder(object):\n",
    "  \"\"\"The Deterministic Encoder.\"\"\"\n",
    "\n",
    "  def __init__(self, output_sizes, attention):\n",
    "    \"\"\"(A)NP deterministic encoder.\n",
    "\n",
    "    Args:\n",
    "      output_sizes: An iterable containing the output sizes of the encoding MLP.\n",
    "      attention: The attention module.\n",
    "    \"\"\"\n",
    "    self._output_sizes = output_sizes\n",
    "    self._attention = attention\n",
    "\n",
    "  def __call__(self, context_x, context_y, target_x):\n",
    "    \"\"\"Encodes the inputs into one representation.\n",
    "\n",
    "    Args:\n",
    "      context_x: Tensor of shape [B,observations,d_x]. For this 1D regression\n",
    "          task this corresponds to the x-values.\n",
    "      context_y: Tensor of shape [B,observations,d_y]. For this 1D regression\n",
    "          task this corresponds to the y-values.\n",
    "      target_x: Tensor of shape [B,target_observations,d_x]. \n",
    "          For this 1D regression task this corresponds to the x-values.\n",
    "\n",
    "    Returns:\n",
    "      The encoded representation. Tensor of shape [B,target_observations,d]\n",
    "    \"\"\"\n",
    "\n",
    "    # Concatenate x and y along the filter axes\n",
    "    encoder_input = tf.concat([context_x, context_y], axis=-1)\n",
    "\n",
    "    # Pass final axis through MLP\n",
    "    hidden = batch_mlp(encoder_input, self._output_sizes, \n",
    "                       \"deterministic_encoder\")\n",
    "\n",
    "    # Apply attention\n",
    "    with tf.variable_scope(\"deterministic_encoder\", reuse=tf.AUTO_REUSE):\n",
    "        hidden = self._attention(context_x, target_x, hidden)\n",
    "\n",
    "    return hidden\n"
   ]
  },
  {
   "cell_type": "markdown",
   "metadata": {
    "colab_type": "text",
    "id": "1944scGst6fS"
   },
   "source": [
    "## Encoder: Latent Path\n",
    "\n",
    "The encoder in the latent path is again shared by all context pairs and consists of an MLP.  After the MLP (with relu non-linearities) is applied the resulting representation is aggregated by taking the mean across the contexts and a further MLP is applied to compute the mean and variance of the Gaussian $q(z|s_C)$. Again the initial MLP's architecture is given by the `output_sizes` argument, and the `num_latent` argument sets the latent dimensionality."
   ]
  },
  {
   "cell_type": "code",
   "execution_count": 15,
   "metadata": {
    "colab": {},
    "colab_type": "code",
    "id": "gufhxfGSRCs9"
   },
   "outputs": [],
   "source": [
    "class LatentEncoder(object):\n",
    "  \"\"\"The Latent Encoder.\"\"\"\n",
    "\n",
    "  def __init__(self, output_sizes, num_latents):\n",
    "    \"\"\"(A)NP latent encoder.\n",
    "\n",
    "    Args:\n",
    "      output_sizes: An iterable containing the output sizes of the encoding MLP.\n",
    "      num_latents: The latent dimensionality.\n",
    "    \"\"\"\n",
    "    self._output_sizes = output_sizes\n",
    "    self._num_latents = num_latents\n",
    "\n",
    "  def __call__(self, x, y):\n",
    "    \"\"\"Encodes the inputs into one representation.\n",
    "\n",
    "    Args:\n",
    "      x: Tensor of shape [B,observations,d_x]. For this 1D regression\n",
    "          task this corresponds to the x-values.\n",
    "      y: Tensor of shape [B,observations,d_y]. For this 1D regression\n",
    "          task this corresponds to the y-values.\n",
    "\n",
    "    Returns:\n",
    "      A normal distribution over tensors of shape [B, num_latents]\n",
    "    \"\"\"\n",
    "\n",
    "    # Concatenate x and y along the filter axes\n",
    "    encoder_input = tf.concat([x, y], axis=-1)\n",
    "\n",
    "    # Pass final axis through MLP\n",
    "    hidden = batch_mlp(encoder_input, self._output_sizes, \"latent_encoder\")\n",
    "      \n",
    "    # Aggregator: take the mean over all points\n",
    "    hidden = tf.reduce_mean(hidden, axis=1)\n",
    "    \n",
    "    # Have further MLP layers that map to the parameters of the Gaussian latent\n",
    "    with tf.variable_scope(\"latent_encoder\", reuse=tf.AUTO_REUSE):\n",
    "      # First apply intermediate relu layer \n",
    "      hidden = tf.nn.relu(\n",
    "          tf.layers.dense(hidden, \n",
    "                          (self._output_sizes[-1] + self._num_latents)/2, \n",
    "                          name=\"penultimate_layer\"))\n",
    "      # Then apply further linear layers to output latent mu and log sigma\n",
    "      mu = tf.layers.dense(hidden, self._num_latents, name=\"mean_layer\")\n",
    "      log_sigma = tf.layers.dense(hidden, self._num_latents, name=\"std_layer\")\n",
    "      \n",
    "    # Compute sigma\n",
    "    sigma = 0.1 + 0.9 * tf.sigmoid(log_sigma)\n",
    "\n",
    "    return tf.contrib.distributions.Normal(loc=mu, scale=sigma)\n"
   ]
  },
  {
   "cell_type": "markdown",
   "metadata": {
    "colab_type": "text",
    "id": "roGKUH3Nt9Xg"
   },
   "source": [
    "## Decoder\n",
    "\n",
    "The context representation (either $z$ or $z$ and $r_C$ concatenated) and the target inputs $x_T$ are fed into the decoder. First they are concatenated and passed through an MLP, whose architecture is given by the `output_sizes` argument. The MLP outputs the mean and variance of the Gaussian $p(y_T|x_T,r_C,z)$. "
   ]
  },
  {
   "cell_type": "code",
   "execution_count": 16,
   "metadata": {
    "colab": {},
    "colab_type": "code",
    "id": "RLhx-J8ALyST"
   },
   "outputs": [],
   "source": [
    "class Decoder(object):\n",
    "  \"\"\"The Decoder.\"\"\"\n",
    "\n",
    "  def __init__(self, output_sizes):\n",
    "    \"\"\"(A)NP decoder.\n",
    "\n",
    "    Args:\n",
    "      output_sizes: An iterable containing the output sizes of the decoder MLP \n",
    "          as defined in `basic.Linear`.\n",
    "    \"\"\"\n",
    "    self._output_sizes = output_sizes\n",
    "\n",
    "  def __call__(self, representation, target_x):\n",
    "    \"\"\"Decodes the individual targets.\n",
    "\n",
    "    Args:\n",
    "      representation: The representation of the context for target predictions. \n",
    "          Tensor of shape [B,target_observations,?].\n",
    "      target_x: The x locations for the target query.\n",
    "          Tensor of shape [B,target_observations,d_x].\n",
    "\n",
    "    Returns:\n",
    "      dist: A multivariate Gaussian over the target points. A distribution over\n",
    "          tensors of shape [B,target_observations,d_y].\n",
    "      mu: The mean of the multivariate Gaussian.\n",
    "          Tensor of shape [B,target_observations,d_x].\n",
    "      sigma: The standard deviation of the multivariate Gaussian.\n",
    "          Tensor of shape [B,target_observations,d_x].\n",
    "    \"\"\"\n",
    "    # concatenate target_x and representation\n",
    "    hidden = tf.concat([representation, target_x], axis=-1)\n",
    "    \n",
    "    # Pass final axis through MLP\n",
    "    hidden = batch_mlp(hidden, self._output_sizes, \"decoder\")\n",
    "\n",
    "    # Get the mean an the variance\n",
    "    mu, log_sigma = tf.split(hidden, 2, axis=-1)\n",
    "\n",
    "    # Bound the variance\n",
    "    sigma = 0.1 + 0.9 * tf.nn.softplus(log_sigma)\n",
    "\n",
    "    # Get the distribution\n",
    "    dist = tf.contrib.distributions.MultivariateNormalDiag(\n",
    "        loc=mu, scale_diag=sigma)\n",
    "\n",
    "    return dist, mu, sigma"
   ]
  },
  {
   "cell_type": "markdown",
   "metadata": {
    "colab_type": "text",
    "id": "bOfbRLHpt_KK"
   },
   "source": [
    "## Model\n",
    "\n",
    "We can put the encoders and the decoder together to form the ANP model."
   ]
  },
  {
   "cell_type": "code",
   "execution_count": 17,
   "metadata": {
    "colab": {},
    "colab_type": "code",
    "id": "n5XJ6gr7ZDPl"
   },
   "outputs": [],
   "source": [
    "class LatentModel(object):\n",
    "  \"\"\"The (A)NP model.\"\"\"\n",
    "\n",
    "  def __init__(self, latent_encoder_output_sizes, num_latents,\n",
    "               decoder_output_sizes, use_deterministic_path=True, \n",
    "               deterministic_encoder_output_sizes=None, attention=None):\n",
    "    \"\"\"Initialises the model.\n",
    "\n",
    "    Args:\n",
    "      latent_encoder_output_sizes: An iterable containing the sizes of hidden \n",
    "          layers of the latent encoder.\n",
    "      num_latents: The latent dimensionality.\n",
    "      decoder_output_sizes: An iterable containing the sizes of hidden layers of\n",
    "          the decoder. The last element should correspond to d_y * 2\n",
    "          (it encodes both mean and variance concatenated)\n",
    "      use_deterministic_path: a boolean that indicates whether the deterministic\n",
    "          encoder is used or not.\n",
    "      deterministic_encoder_output_sizes: An iterable containing the sizes of \n",
    "          hidden layers of the deterministic encoder. The last one is the size \n",
    "          of the deterministic representation r.\n",
    "      attention: The attention module used in the deterministic encoder.\n",
    "          Only relevant when use_deterministic_path=True.\n",
    "    \"\"\"\n",
    "    self._latent_encoder = LatentEncoder(latent_encoder_output_sizes, \n",
    "                                         num_latents)\n",
    "    self._decoder = Decoder(decoder_output_sizes)\n",
    "    self._use_deterministic_path = use_deterministic_path\n",
    "    if use_deterministic_path:\n",
    "      self._deterministic_encoder = DeterministicEncoder(\n",
    "          deterministic_encoder_output_sizes, attention)\n",
    "    \n",
    "\n",
    "  def __call__(self, query, num_targets, target_y=None):\n",
    "    \"\"\"Returns the predicted mean and variance at the target points.\n",
    "\n",
    "    Args:\n",
    "      query: Array containing ((context_x, context_y), target_x) where:\n",
    "          context_x: Tensor of shape [B,num_contexts,d_x]. \n",
    "              Contains the x values of the context points.\n",
    "          context_y: Tensor of shape [B,num_contexts,d_y]. \n",
    "              Contains the y values of the context points.\n",
    "          target_x: Tensor of shape [B,num_targets,d_x]. \n",
    "              Contains the x values of the target points.\n",
    "      num_targets: Number of target points.\n",
    "      target_y: The ground truth y values of the target y. \n",
    "          Tensor of shape [B,num_targets,d_y].\n",
    "\n",
    "    Returns:\n",
    "      log_p: The log_probability of the target_y given the predicted\n",
    "          distribution. Tensor of shape [B,num_targets].\n",
    "      mu: The mean of the predicted distribution. \n",
    "          Tensor of shape [B,num_targets,d_y].\n",
    "      sigma: The variance of the predicted distribution.\n",
    "          Tensor of shape [B,num_targets,d_y].\n",
    "    \"\"\"\n",
    "\n",
    "    (context_x, context_y), target_x = query\n",
    "\n",
    "    # Pass query through the encoder and the decoder\n",
    "    prior = self._latent_encoder(context_x, context_y)\n",
    "    \n",
    "    # For training, when target_y is available, use targets for latent encoder.\n",
    "    # Note that targets contain contexts by design.\n",
    "    if target_y is None:\n",
    "      latent_rep = prior.sample()\n",
    "    # For testing, when target_y unavailable, use contexts for latent encoder.\n",
    "    else:\n",
    "      posterior = self._latent_encoder(target_x, target_y)\n",
    "      latent_rep = posterior.sample()\n",
    "    latent_rep = tf.tile(tf.expand_dims(latent_rep, axis=1),\n",
    "                         [1, num_targets, 1])\n",
    "    if self._use_deterministic_path:\n",
    "      deterministic_rep = self._deterministic_encoder(context_x, context_y,\n",
    "                                                      target_x)\n",
    "      representation = tf.concat([deterministic_rep, latent_rep], axis=-1)\n",
    "    else:\n",
    "      representation = latent_rep\n",
    "      \n",
    "    dist, mu, sigma = self._decoder(representation, target_x)\n",
    "    \n",
    "    # If we want to calculate the log_prob for training we will make use of the\n",
    "    # target_y. At test time the target_y is not available so we return None.\n",
    "    if target_y is not None:\n",
    "      log_p = dist.log_prob(target_y)\n",
    "      posterior = self._latent_encoder(target_x, target_y)\n",
    "      kl = tf.reduce_sum(\n",
    "          tf.contrib.distributions.kl_divergence(posterior, prior), \n",
    "          axis=-1, keepdims=True)\n",
    "      kl = tf.tile(kl, [1, num_targets])\n",
    "      loss = - tf.reduce_mean(log_p - kl / tf.cast(num_targets, tf.float32))\n",
    "    else:\n",
    "      log_p = None\n",
    "      kl = None\n",
    "      loss = None\n",
    "\n",
    "    return mu, sigma, log_p, kl, loss\n"
   ]
  },
  {
   "cell_type": "markdown",
   "metadata": {
    "colab_type": "text",
    "id": "ULaa6hZEuHvU"
   },
   "source": [
    "## Cross-Attention Module\n",
    "Given a set of key-value pairs $(k_i,v_i)_{i \\in I}$ and query $q$, an attention module computes weights for each key and aggregates the values with these weights to form the value corresponding to the query.\n",
    "\n",
    "\n",
    "**`rep`** determines whether the raw inputs to the module will be used as the keys and queries, or whether you will pass them through an MLP and use the output instead. One of 'identity', 'mlp'.\n",
    "\n",
    "**`output_sizes`** determines the architecture of the MLP used to obtain the keys/queries if `rep` is 'mlp'.\n",
    "\n",
    "**`att_type`** is a string argument that determines the type of attention used. Valid choices of attention are: uniform, laplace, dot product, multihead.\n",
    "\n",
    "* **Uniform** $((k_i,v_i)_{i\\in I}, q)= \\frac{1}{|I|} \\sum_i v_i$\n",
    "\n",
    "* **Laplace** $((k_i,v_i)_{i\\in I}, q)= \\sum_i w_i v_i, \\hspace{2mm} w_i \\propto \\exp(-\\frac{||q - k_i||_1}{l})$\n",
    "\n",
    "* **DotProduct** $((k_i,v_i)_{i\\in I}, q)= \\sum_i w_i v_i, \\hspace{2mm} w_i \\propto \\exp(q^\\top k_i / \\sqrt{d_k})$ where $k_i \\in \\mathbb{R}^{d_k}$.\n",
    "\n",
    "* **Multihead** $((k_i,v_i)_{i\\in I}, q)= \\mathcal{L}^O(\\text{concat}(\\text{head}_1, \\ldots, \\text{head}_H))$, $\\text{head}_h = \\text{DotProduct}((\\mathcal{L}^K_h(k_i),\\mathcal{L}^V_h(v_i))_{i \\in I}, \\mathcal{L}^Q_h(q))$ \n",
    "\n",
    "  where $\\mathcal{L}$ are linear maps with trainable parameters.\n",
    "\n",
    "**`scale`**: length scale $l$ in Laplace attention.\n",
    "\n",
    "**`normalise`**: whether to use a softmax so that weights sum to 1 or not.\n",
    "\n",
    "**`num_heads`**: $H$, the number of heads for multihead attention."
   ]
  },
  {
   "cell_type": "code",
   "execution_count": 18,
   "metadata": {
    "colab": {},
    "colab_type": "code",
    "id": "DImJP8HfhmmM"
   },
   "outputs": [],
   "source": [
    "def uniform_attention(q, v):\n",
    "  \"\"\"Uniform attention. Equivalent to np.\n",
    "\n",
    "  Args:\n",
    "    q: queries. tensor of shape [B,m,d_k].\n",
    "    v: values. tensor of shape [B,n,d_v].\n",
    "    \n",
    "  Returns:\n",
    "    tensor of shape [B,m,d_v].\n",
    "  \"\"\"\n",
    "  total_points = tf.shape(q)[1]\n",
    "  rep = tf.reduce_mean(v, axis=1, keepdims=True)  # [B,1,d_v]\n",
    "  rep = tf.tile(rep, [1, total_points, 1])\n",
    "  return rep\n",
    "\n",
    "def laplace_attention(q, k, v, scale, normalise):\n",
    "  \"\"\"Computes laplace exponential attention.\n",
    "\n",
    "  Args:\n",
    "    q: queries. tensor of shape [B,m,d_k].\n",
    "    k: keys. tensor of shape [B,n,d_k].\n",
    "    v: values. tensor of shape [B,n,d_v].\n",
    "    scale: float that scales the L1 distance.\n",
    "    normalise: Boolean that determines whether weights sum to 1.\n",
    "    \n",
    "  Returns:\n",
    "    tensor of shape [B,m,d_v].\n",
    "  \"\"\"\n",
    "  k = tf.expand_dims(k, axis=1)  # [B,1,n,d_k]\n",
    "  q = tf.expand_dims(q, axis=2)  # [B,m,1,d_k]\n",
    "  unnorm_weights = - tf.abs((k - q) / scale)  # [B,m,n,d_k]\n",
    "  unnorm_weights = tf.reduce_sum(unnorm_weights, axis=-1)  # [B,m,n]\n",
    "  if normalise:\n",
    "    weight_fn = tf.nn.softmax\n",
    "  else:\n",
    "    weight_fn = lambda x: 1 + tf.tanh(x)\n",
    "  weights = weight_fn(unnorm_weights)  # [B,m,n]\n",
    "  rep = tf.einsum('bik,bkj->bij', weights, v)  # [B,m,d_v]\n",
    "  return rep\n",
    "\n",
    "\n",
    "def dot_product_attention(q, k, v, normalise):\n",
    "  \"\"\"Computes dot product attention.\n",
    "\n",
    "  Args:\n",
    "    q: queries. tensor of  shape [B,m,d_k].\n",
    "    k: keys. tensor of shape [B,n,d_k].\n",
    "    v: values. tensor of shape [B,n,d_v].\n",
    "    normalise: Boolean that determines whether weights sum to 1.\n",
    "    \n",
    "  Returns:\n",
    "    tensor of shape [B,m,d_v].\n",
    "  \"\"\"\n",
    "  d_k = tf.shape(q)[-1]\n",
    "  scale = tf.sqrt(tf.cast(d_k, tf.float32))\n",
    "  unnorm_weights = tf.einsum('bjk,bik->bij', k, q) / scale  # [B,m,n]\n",
    "  if normalise:\n",
    "    weight_fn = tf.nn.softmax\n",
    "  else:\n",
    "    weight_fn = tf.sigmoid\n",
    "  weights = weight_fn(unnorm_weights)  # [B,m,n]\n",
    "  rep = tf.einsum('bik,bkj->bij', weights, v)  # [B,m,d_v]\n",
    "  return rep\n",
    "\n",
    "\n",
    "def multihead_attention(q, k, v, num_heads=8):\n",
    "  \"\"\"Computes multi-head attention.\n",
    "\n",
    "  Args:\n",
    "    q: queries. tensor of  shape [B,m,d_k].\n",
    "    k: keys. tensor of shape [B,n,d_k].\n",
    "    v: values. tensor of shape [B,n,d_v].\n",
    "    num_heads: number of heads. Should divide d_v.\n",
    "    \n",
    "  Returns:\n",
    "    tensor of shape [B,m,d_v].\n",
    "  \"\"\"\n",
    "  d_k = q.get_shape().as_list()[-1]\n",
    "  d_v = v.get_shape().as_list()[-1]\n",
    "  head_size = d_v / num_heads\n",
    "  key_initializer = tf.random_normal_initializer(stddev=d_k**-0.5)\n",
    "  value_initializer = tf.random_normal_initializer(stddev=d_v**-0.5)\n",
    "  rep = tf.constant(0.0)\n",
    "  for h in range(num_heads):\n",
    "    o = dot_product_attention(\n",
    "        tf.layers.Conv1D(head_size, 1, kernel_initializer=key_initializer,\n",
    "                   name='wq%d' % h, use_bias=False, padding='VALID')(q),\n",
    "        tf.layers.Conv1D(head_size, 1, kernel_initializer=key_initializer,\n",
    "                   name='wk%d' % h, use_bias=False, padding='VALID')(k),\n",
    "        tf.layers.Conv1D(head_size, 1, kernel_initializer=key_initializer,\n",
    "                   name='wv%d' % h, use_bias=False, padding='VALID')(v),\n",
    "        normalise=True)\n",
    "    rep += tf.layers.Conv1D(d_v, 1, kernel_initializer=value_initializer,\n",
    "                      name='wo%d' % h, use_bias=False, padding='VALID')(o)\n",
    "  return rep\n",
    "\n",
    "class Attention(object):\n",
    "  \"\"\"The Attention module.\"\"\"\n",
    "\n",
    "  def __init__(self, rep, output_sizes, att_type, scale=1., normalise=True,\n",
    "               num_heads=8):\n",
    "    \"\"\"Create attention module.\n",
    "\n",
    "    Takes in context inputs, target inputs and\n",
    "    representations of each context input/output pair\n",
    "    to output an aggregated representation of the context data.\n",
    "    Args:\n",
    "      rep: transformation to apply to contexts before computing attention. \n",
    "          One of: ['identity','mlp'].\n",
    "      output_sizes: list of number of hidden units per layer of mlp.\n",
    "          Used only if rep == 'mlp'.\n",
    "      att_type: type of attention. One of the following:\n",
    "          ['uniform','laplace','dot_product','multihead']\n",
    "      scale: scale of attention.\n",
    "      normalise: Boolean determining whether to:\n",
    "          1. apply softmax to weights so that they sum to 1 across context pts or\n",
    "          2. apply custom transformation to have weights in [0,1].\n",
    "      num_heads: number of heads for multihead.\n",
    "    \"\"\"\n",
    "    self._rep = rep\n",
    "    self._output_sizes = output_sizes\n",
    "    self._type = att_type\n",
    "    self._scale = scale\n",
    "    self._normalise = normalise\n",
    "    if self._type == 'multihead':\n",
    "      self._num_heads = num_heads\n",
    "\n",
    "  def __call__(self, x1, x2, r):\n",
    "    \"\"\"Apply attention to create aggregated representation of r.\n",
    "\n",
    "    Args:\n",
    "      x1: tensor of shape [B,n1,d_x].\n",
    "      x2: tensor of shape [B,n2,d_x].\n",
    "      r: tensor of shape [B,n1,d].\n",
    "      \n",
    "    Returns:\n",
    "      tensor of shape [B,n2,d]\n",
    "\n",
    "    Raises:\n",
    "      NameError: The argument for rep/type was invalid.\n",
    "    \"\"\"\n",
    "    if self._rep == 'identity':\n",
    "      k, q = (x1, x2)\n",
    "    elif self._rep == 'mlp':\n",
    "      # Pass through MLP\n",
    "      k = batch_mlp(x1, self._output_sizes, \"attention\")\n",
    "      q = batch_mlp(x2, self._output_sizes, \"attention\")\n",
    "    else:\n",
    "      raise NameError(\"'rep' not among ['identity','mlp']\")\n",
    "\n",
    "    if self._type == 'uniform':\n",
    "      rep = uniform_attention(q, r)\n",
    "    elif self._type == 'laplace':\n",
    "      rep = laplace_attention(q, k, r, self._scale, self._normalise)\n",
    "    elif self._type == 'dot_product':\n",
    "      rep = dot_product_attention(q, k, r, self._normalise)\n",
    "    elif self._type == 'multihead':\n",
    "      rep = multihead_attention(q, k, r, self._num_heads)\n",
    "    else:\n",
    "      raise NameError((\"'att_type' not among ['uniform','laplace','dot_product'\"\n",
    "                       \",'multihead']\"))\n",
    "\n",
    "    return rep"
   ]
  },
  {
   "cell_type": "markdown",
   "metadata": {
    "colab_type": "text",
    "id": "zYcTQDLltFmA"
   },
   "source": [
    "## Ploting function\n",
    "\n",
    "Same plotting function as for the [implementation of CNPs](https://github.com/deepmind/conditional-neural-process/blob/master/conditional_neural_process.ipynb) that plots the intermediate predictions every so often during training."
   ]
  },
  {
   "cell_type": "code",
   "execution_count": 33,
   "metadata": {
    "colab": {},
    "colab_type": "code",
    "id": "AFlT3lJQTM_m"
   },
   "outputs": [],
   "source": [
    "def plot_functions(target_x, target_y, context_x, context_y, pred_y, std):\n",
    "  \"\"\"Plots the predicted mean and variance and the context points.\n",
    "  \n",
    "  Args: \n",
    "    target_x: An array of shape [B,num_targets,1] that contains the\n",
    "        x values of the target points.\n",
    "    target_y: An array of shape [B,num_targets,1] that contains the\n",
    "        y values of the target points.\n",
    "    context_x: An array of shape [B,num_contexts,1] that contains \n",
    "        the x values of the context points.\n",
    "    context_y: An array of shape [B,num_contexts,1] that contains \n",
    "        the y values of the context points.\n",
    "    pred_y: An array of shape [B,num_targets,1] that contains the\n",
    "        predicted means of the y values at the target points in target_x.\n",
    "    std: An array of shape [B,num_targets,1] that contains the\n",
    "        predicted std dev of the y values at the target points in target_x.\n",
    "  \"\"\"\n",
    "  # Plot everything\n",
    "  plt.plot(target_x[0], pred_y[0], 'b', linewidth=2)\n",
    "  plt.plot(target_x[0], target_y[0], 'k:', linewidth=2)\n",
    "  plt.plot(context_x[0], context_y[0], 'ko', markersize=10)\n",
    "  plt.fill_between(\n",
    "      target_x[0, :, 0],\n",
    "      pred_y[0, :, 0] - std[0, :, 0],\n",
    "      pred_y[0, :, 0] + std[0, :, 0],\n",
    "      alpha=0.2,\n",
    "      facecolor='#65c9f7',\n",
    "      interpolate=True)\n",
    "\n",
    "  # Make the plot pretty\n",
    "  plt.yticks([-2, 0, 2], fontsize=16)\n",
    "  plt.xticks([-2, 0, 2], fontsize=16)\n",
    "  plt.ylim([-2, 2])\n",
    "  plt.grid('off')\n",
    "  ax = plt.gca()\n",
    "  plt.show()"
   ]
  },
  {
   "cell_type": "markdown",
   "metadata": {
    "colab_type": "text",
    "id": "Z69Ham1nteeD"
   },
   "source": [
    "## Training the (A)NP\n",
    "\n",
    "We can now start training. First we need to define some variables:\n",
    "\n",
    "**`TRAINING_ITERATIONS`**: Number of iterations used for trianing. At each iteration we sample a new batch of sample curves from GPs and pick a random set of points on each curve to be the target and a subset to be the context. We optimise the ELBO on the log predictive likelihood of the target given context.\n",
    "\n",
    "**`MAX_CONTEXT_POINTS`**: Maximum number of context points used during training. This is also set to be the upper bound on the number of target points.\n",
    "\n",
    "**`PLOT_AFTER`**: The number of iterations between the intermediate plots.\n",
    "\n",
    "**`HIDDEN_SIZE`**: Master parameter that governs the hidden layer size of all MLPs in the model and also the latent dimensionality. \n",
    "\n",
    "**`MODEL_TYPE`**: 'NP' or 'ANP'.\n",
    "\n",
    "**`ATTENTION_TYPE`**: The type of attention used for ANP. One of `uniform`, `laplace` `dot_product` or `multihead`\n",
    "\n",
    "**`random_kernel_parameters`**: Boolean to determine whether the GP kernel parameters are sample randomly for each iteration or fixed.\n"
   ]
  },
  {
   "cell_type": "markdown",
   "metadata": {
    "colab_type": "text",
    "id": "yHqnv8FP4Rtu"
   },
   "source": [
    "### NP training\n",
    "First we train the NP. Notice from the plots that the predictions after 1e5 iterations do not go through the context points perfectly - i.e. underfits."
   ]
  },
  {
   "cell_type": "code",
   "execution_count": 34,
   "metadata": {
    "colab": {
     "height": 2897
    },
    "colab_type": "code",
    "executionInfo": {
     "elapsed": 493150,
     "status": "ok",
     "timestamp": 1551095030039,
     "user": {
      "displayName": "Hyunjik Kim",
      "photoUrl": "https://lh5.googleusercontent.com/-oMZCZLTka34/AAAAAAAAAAI/AAAAAAAAAAc/ENlUKunKSqo/s64/photo.jpg",
      "userId": "01465310974685628261"
     },
     "user_tz": 0
    },
    "id": "c6FcSLfnLD9_",
    "outputId": "8b1ecc7c-5218-4f7f-b596-a833ecfbd8b7"
   },
   "outputs": [
    {
     "name": "stdout",
     "output_type": "stream",
     "text": [
      "Iteration: 0, loss: 0.9747580885887146\n"
     ]
    },
    {
     "data": {
      "image/png": "[encoded data removed]",
      "text/plain": [
       "<Figure size 432x288 with 1 Axes>"
      ]
     },
     "metadata": {
      "needs_background": "light"
     },
     "output_type": "display_data"
    },
    {
     "name": "stdout",
     "output_type": "stream",
     "text": [
      "Iteration: 10000, loss: 0.43914520740509033\n"
     ]
    },
    {
     "data": {
      "image/png": "[encoded data removed]",
      "text/plain": [
       "<Figure size 432x288 with 1 Axes>"
      ]
     },
     "metadata": {
      "needs_background": "light"
     },
     "output_type": "display_data"
    },
    {
     "name": "stdout",
     "output_type": "stream",
     "text": [
      "Iteration: 20000, loss: -0.11953943222761154\n"
     ]
    },
    {
     "data": {
      "image/png": "[encoded data removed]",
      "text/plain": [
       "<Figure size 432x288 with 1 Axes>"
      ]
     },
     "metadata": {
      "needs_background": "light"
     },
     "output_type": "display_data"
    },
    {
     "name": "stdout",
     "output_type": "stream",
     "text": [
      "Iteration: 30000, loss: 0.1292727291584015\n"
     ]
    },
    {
     "data": {
      "image/png": "[encoded data removed]",
      "text/plain": [
       "<Figure size 432x288 with 1 Axes>"
      ]
     },
     "metadata": {
      "needs_background": "light"
     },
     "output_type": "display_data"
    },
    {
     "name": "stdout",
     "output_type": "stream",
     "text": [
      "Iteration: 40000, loss: 0.12274575978517532\n"
     ]
    },
    {
     "data": {
      "image/png": "[encoded data removed]",
      "text/plain": [
       "<Figure size 432x288 with 1 Axes>"
      ]
     },
     "metadata": {
      "needs_background": "light"
     },
     "output_type": "display_data"
    },
    {
     "name": "stdout",
     "output_type": "stream",
     "text": [
      "Iteration: 50000, loss: -0.011920739896595478\n"
     ]
    },
    {
     "data": {
      "image/png": "[encoded data removed]",
      "text/plain": [
       "<Figure size 432x288 with 1 Axes>"
      ]
     },
     "metadata": {
      "needs_background": "light"
     },
     "output_type": "display_data"
    },
    {
     "name": "stdout",
     "output_type": "stream",
     "text": [
      "Iteration: 60000, loss: 0.2425256222486496\n"
     ]
    },
    {
     "data": {
      "image/png": "[encoded data removed]",
      "text/plain": [
       "<Figure size 432x288 with 1 Axes>"
      ]
     },
     "metadata": {
      "needs_background": "light"
     },
     "output_type": "display_data"
    },
    {
     "name": "stdout",
     "output_type": "stream",
     "text": [
      "Iteration: 70000, loss: 0.08943722397089005\n"
     ]
    },
    {
     "data": {
      "image/png": "[encoded data removed]",
      "text/plain": [
       "<Figure size 432x288 with 1 Axes>"
      ]
     },
     "metadata": {
      "needs_background": "light"
     },
     "output_type": "display_data"
    },
    {
     "name": "stdout",
     "output_type": "stream",
     "text": [
      "Iteration: 80000, loss: -0.16534703969955444\n"
     ]
    },
    {
     "data": {
      "image/png": "[encoded data removed]",
      "text/plain": [
       "<Figure size 432x288 with 1 Axes>"
      ]
     },
     "metadata": {
      "needs_background": "light"
     },
     "output_type": "display_data"
    },
    {
     "name": "stdout",
     "output_type": "stream",
     "text": [
      "Iteration: 90000, loss: -0.23179838061332703\n"
     ]
    },
    {
     "data": {
      "image/png": "[encoded data removed]",
      "text/plain": [
       "<Figure size 432x288 with 1 Axes>"
      ]
     },
     "metadata": {
      "needs_background": "light"
     },
     "output_type": "display_data"
    }
   ],
   "source": [
    "TRAINING_ITERATIONS = 100000 #@param {type:\"number\"}\n",
    "MAX_CONTEXT_POINTS = 50 #@param {type:\"number\"}\n",
    "PLOT_AFTER = 10000 #@param {type:\"number\"}\n",
    "HIDDEN_SIZE = 128 #@param {type:\"number\"}\n",
    "MODEL_TYPE = 'NP' #@param ['NP','ANP']\n",
    "ATTENTION_TYPE = 'uniform' #@param ['uniform','laplace','dot_product','multihead']\n",
    "random_kernel_parameters=True #@param {type:\"boolean\"}\n",
    "\n",
    "tf.reset_default_graph()\n",
    "# Train dataset\n",
    "dataset_train = GPCurvesReader(\n",
    "    batch_size=16, max_num_context=MAX_CONTEXT_POINTS, random_kernel_parameters=random_kernel_parameters)\n",
    "data_train = dataset_train.generate_curves()\n",
    "\n",
    "# Test dataset\n",
    "dataset_test = GPCurvesReader(\n",
    "    batch_size=1, max_num_context=MAX_CONTEXT_POINTS, testing=True, random_kernel_parameters=random_kernel_parameters)\n",
    "data_test = dataset_test.generate_curves()\n",
    "\n",
    "\n",
    "# Sizes of the layers of the MLPs for the encoders and decoder\n",
    "# The final output layer of the decoder outputs two values, one for the mean and\n",
    "# one for the variance of the prediction at the target location\n",
    "latent_encoder_output_sizes = [HIDDEN_SIZE]*4\n",
    "num_latents = HIDDEN_SIZE\n",
    "deterministic_encoder_output_sizes= [HIDDEN_SIZE]*4\n",
    "decoder_output_sizes = [HIDDEN_SIZE]*2 + [2]\n",
    "use_deterministic_path = True\n",
    "\n",
    "\n",
    "# ANP with multihead attention\n",
    "if MODEL_TYPE == 'ANP':\n",
    "  attention = Attention(rep='mlp', output_sizes=[HIDDEN_SIZE]*2, \n",
    "                        att_type=ATTENTION_TYPE)\n",
    "# NP - equivalent to uniform attention\n",
    "elif MODEL_TYPE == 'NP':\n",
    "  attention = Attention(rep='identity', output_sizes=None, att_type='uniform')\n",
    "else:\n",
    "  raise NameError(\"MODEL_TYPE not among ['ANP,'NP']\")\n",
    "\n",
    "# Define the model\n",
    "model = LatentModel(latent_encoder_output_sizes, num_latents,\n",
    "                    decoder_output_sizes, use_deterministic_path, \n",
    "                    deterministic_encoder_output_sizes, attention)\n",
    "\n",
    "# Define the loss\n",
    "_, _, log_prob, _, loss = model(data_train.query, data_train.num_total_points,\n",
    "                                 data_train.target_y)\n",
    "\n",
    "# Get the predicted mean and variance at the target points for the testing set\n",
    "mu, sigma, _, _, _ = model(data_test.query, data_test.num_total_points)\n",
    "\n",
    "# Set up the optimizer and train step\n",
    "optimizer = tf.train.AdamOptimizer(1e-4)\n",
    "train_step = optimizer.minimize(loss)\n",
    "init = tf.initialize_all_variables()\n",
    "\n",
    "# Train and plot\n",
    "with tf.Session() as sess:\n",
    "  sess.run(init)\n",
    "\n",
    "  for it in range(TRAINING_ITERATIONS):\n",
    "    sess.run([train_step])\n",
    "\n",
    "    # Plot the predictions in `PLOT_AFTER` intervals\n",
    "    if it % PLOT_AFTER == 0:\n",
    "      loss_value, pred_y, std_y, target_y, whole_query = sess.run(\n",
    "          [loss, mu, sigma, data_test.target_y, \n",
    "           data_test.query])\n",
    "\n",
    "      (context_x, context_y), target_x = whole_query\n",
    "      print('Iteration: {}, loss: {:.3f}'.format(it, loss_value))\n",
    "\n",
    "      # Plot the prediction and the context\n",
    "      plot_functions(target_x, target_y, context_x, context_y, pred_y, std_y)"
   ]
  },
  {
   "cell_type": "code",
   "execution_count": 32,
   "metadata": {},
   "outputs": [
    {
     "name": "stdout",
     "output_type": "stream",
     "text": [
      "(1, 400, 1)\n",
      "context_x: [-1.65 -0.6  -0.8  -0.94  1.55 -1.67  0.56 -0.09 -0.78 -1.73 -1.27  1.34\n",
      " -0.81  1.92  1.76  0.88 -0.27  0.02 -1.36  1.12 -0.9  -1.01  1.81 -0.89\n",
      " -0.96 -1.43 -1.25 -1.17]\n",
      "context_y: [-0.01 -0.12 -0.05 -0.11  0.14  0.    0.08 -0.01 -0.06  0.03 -0.15  0.08\n",
      " -0.1   0.2   0.16 -0.09 -0.12  0.04 -0.15 -0.02 -0.1  -0.11  0.17 -0.13\n",
      " -0.1  -0.11 -0.15 -0.14]\n",
      "target_x: [-2.00e+00 -1.99e+00 -1.98e+00 -1.97e+00 -1.96e+00 -1.95e+00 -1.94e+00\n",
      " -1.93e+00 -1.92e+00 -1.91e+00 -1.90e+00 -1.89e+00 -1.88e+00 -1.87e+00\n",
      " -1.86e+00 -1.85e+00 -1.84e+00 -1.83e+00 -1.82e+00 -1.81e+00 -1.80e+00\n",
      " -1.79e+00 -1.78e+00 -1.77e+00 -1.76e+00 -1.75e+00 -1.74e+00 -1.73e+00\n",
      " -1.72e+00 -1.71e+00 -1.70e+00 -1.69e+00 -1.68e+00 -1.67e+00 -1.66e+00\n",
      " -1.65e+00 -1.64e+00 -1.63e+00 -1.62e+00 -1.61e+00 -1.60e+00 -1.59e+00\n",
      " -1.58e+00 -1.57e+00 -1.56e+00 -1.55e+00 -1.54e+00 -1.53e+00 -1.52e+00\n",
      " -1.51e+00 -1.50e+00 -1.49e+00 -1.48e+00 -1.47e+00 -1.46e+00 -1.45e+00\n",
      " -1.44e+00 -1.43e+00 -1.42e+00 -1.41e+00 -1.40e+00 -1.39e+00 -1.38e+00\n",
      " -1.37e+00 -1.36e+00 -1.35e+00 -1.34e+00 -1.33e+00 -1.32e+00 -1.31e+00\n",
      " -1.30e+00 -1.29e+00 -1.28e+00 -1.27e+00 -1.26e+00 -1.25e+00 -1.24e+00\n",
      " -1.23e+00 -1.22e+00 -1.21e+00 -1.20e+00 -1.19e+00 -1.18e+00 -1.17e+00\n",
      " -1.16e+00 -1.15e+00 -1.14e+00 -1.13e+00 -1.12e+00 -1.11e+00 -1.10e+00\n",
      " -1.09e+00 -1.08e+00 -1.07e+00 -1.06e+00 -1.05e+00 -1.04e+00 -1.03e+00\n",
      " -1.02e+00 -1.01e+00 -1.00e+00 -9.90e-01 -9.80e-01 -9.70e-01 -9.60e-01\n",
      " -9.50e-01 -9.40e-01 -9.30e-01 -9.20e-01 -9.10e-01 -9.00e-01 -8.90e-01\n",
      " -8.80e-01 -8.70e-01 -8.60e-01 -8.50e-01 -8.40e-01 -8.30e-01 -8.20e-01\n",
      " -8.10e-01 -8.00e-01 -7.90e-01 -7.80e-01 -7.70e-01 -7.60e-01 -7.50e-01\n",
      " -7.40e-01 -7.30e-01 -7.20e-01 -7.10e-01 -7.00e-01 -6.90e-01 -6.80e-01\n",
      " -6.70e-01 -6.60e-01 -6.50e-01 -6.40e-01 -6.30e-01 -6.20e-01 -6.10e-01\n",
      " -6.00e-01 -5.90e-01 -5.80e-01 -5.70e-01 -5.60e-01 -5.50e-01 -5.40e-01\n",
      " -5.30e-01 -5.20e-01 -5.10e-01 -5.00e-01 -4.90e-01 -4.80e-01 -4.70e-01\n",
      " -4.60e-01 -4.50e-01 -4.40e-01 -4.30e-01 -4.20e-01 -4.10e-01 -4.00e-01\n",
      " -3.90e-01 -3.80e-01 -3.70e-01 -3.60e-01 -3.50e-01 -3.40e-01 -3.30e-01\n",
      " -3.20e-01 -3.10e-01 -3.00e-01 -2.90e-01 -2.80e-01 -2.70e-01 -2.60e-01\n",
      " -2.50e-01 -2.40e-01 -2.30e-01 -2.20e-01 -2.10e-01 -2.00e-01 -1.90e-01\n",
      " -1.80e-01 -1.70e-01 -1.60e-01 -1.50e-01 -1.40e-01 -1.30e-01 -1.20e-01\n",
      " -1.10e-01 -1.00e-01 -9.00e-02 -8.00e-02 -7.00e-02 -6.00e-02 -5.00e-02\n",
      " -4.00e-02 -3.00e-02 -2.00e-02 -1.00e-02 -1.62e-06  1.00e-02  2.00e-02\n",
      "  3.00e-02  4.00e-02  5.00e-02  6.00e-02  7.00e-02  8.00e-02  9.00e-02\n",
      "  1.00e-01  1.10e-01  1.20e-01  1.30e-01  1.40e-01  1.50e-01  1.60e-01\n",
      "  1.70e-01  1.80e-01  1.90e-01  2.00e-01  2.10e-01  2.20e-01  2.30e-01\n",
      "  2.40e-01  2.50e-01  2.60e-01  2.70e-01  2.80e-01  2.90e-01  3.00e-01\n",
      "  3.10e-01  3.20e-01  3.30e-01  3.40e-01  3.50e-01  3.60e-01  3.70e-01\n",
      "  3.80e-01  3.90e-01  4.00e-01  4.10e-01  4.20e-01  4.30e-01  4.40e-01\n",
      "  4.50e-01  4.60e-01  4.70e-01  4.80e-01  4.90e-01  5.00e-01  5.10e-01\n",
      "  5.20e-01  5.30e-01  5.40e-01  5.50e-01  5.60e-01  5.70e-01  5.80e-01\n",
      "  5.90e-01  6.00e-01  6.10e-01  6.20e-01  6.30e-01  6.40e-01  6.50e-01\n",
      "  6.60e-01  6.70e-01  6.80e-01  6.90e-01  7.00e-01  7.10e-01  7.20e-01\n",
      "  7.30e-01  7.40e-01  7.50e-01  7.60e-01  7.70e-01  7.80e-01  7.90e-01\n",
      "  8.00e-01  8.10e-01  8.20e-01  8.30e-01  8.40e-01  8.50e-01  8.60e-01\n",
      "  8.70e-01  8.80e-01  8.90e-01  9.00e-01  9.10e-01  9.20e-01  9.30e-01\n",
      "  9.40e-01  9.50e-01  9.60e-01  9.70e-01  9.80e-01  9.90e-01  1.00e+00\n",
      "  1.01e+00  1.02e+00  1.03e+00  1.04e+00  1.05e+00  1.06e+00  1.07e+00\n",
      "  1.08e+00  1.09e+00  1.10e+00  1.11e+00  1.12e+00  1.13e+00  1.14e+00\n",
      "  1.15e+00  1.16e+00  1.17e+00  1.18e+00  1.19e+00  1.20e+00  1.21e+00\n",
      "  1.22e+00  1.23e+00  1.24e+00  1.25e+00  1.26e+00  1.27e+00  1.28e+00\n",
      "  1.29e+00  1.30e+00  1.31e+00  1.32e+00  1.33e+00  1.34e+00  1.35e+00\n",
      "  1.36e+00  1.37e+00  1.38e+00  1.39e+00  1.40e+00  1.41e+00  1.42e+00\n",
      "  1.43e+00  1.44e+00  1.45e+00  1.46e+00  1.47e+00  1.48e+00  1.49e+00\n",
      "  1.50e+00  1.51e+00  1.52e+00  1.53e+00  1.54e+00  1.55e+00  1.56e+00\n",
      "  1.57e+00  1.58e+00  1.59e+00  1.60e+00  1.61e+00  1.62e+00  1.63e+00\n",
      "  1.64e+00  1.65e+00  1.66e+00  1.67e+00  1.68e+00  1.69e+00  1.70e+00\n",
      "  1.71e+00  1.72e+00  1.73e+00  1.74e+00  1.75e+00  1.76e+00  1.77e+00\n",
      "  1.78e+00  1.79e+00  1.80e+00  1.81e+00  1.82e+00  1.83e+00  1.84e+00\n",
      "  1.85e+00  1.86e+00  1.87e+00  1.88e+00  1.89e+00  1.90e+00  1.91e+00\n",
      "  1.92e+00  1.93e+00  1.94e+00  1.95e+00  1.96e+00  1.97e+00  1.98e+00\n",
      "  1.99e+00]\n"
     ]
    },
    {
     "data": {
      "image/png": "[encoded data removed]",
      "text/plain": [
       "<Figure size 432x288 with 1 Axes>"
      ]
     },
     "metadata": {
      "needs_background": "light"
     },
     "output_type": "display_data"
    }
   ],
   "source": [
    "np.set_printoptions(precision=2)\n",
    "print(target_x.shape)\n",
    "print(\"context_x: {}\".format(context_x[0].flatten()))\n",
    "print(\"context_y: {}\".format(context_y[0].flatten()))\n",
    "print(\"target_x: {}\".format(target_x[0].flatten()))\n",
    "\n",
    "plt.plot(target_x[0], target_y[0], 'k:', linewidth=2)\n",
    "plt.plot(context_x[0].flatten(), context_y[0].flatten(), 'ko', markersize=10)\n",
    "\n",
    "plt.show()"
   ]
  },
  {
   "cell_type": "markdown",
   "metadata": {
    "colab_type": "text",
    "id": "pudKobiUJbbT"
   },
   "source": [
    "### ANP training\n",
    "\n",
    "Next, we train the ANP with multihead attention, using the same hyperparameter setting as NPs. Note that the predictions are now much more accurate for the observed context data."
   ]
  },
  {
   "cell_type": "code",
   "execution_count": null,
   "metadata": {
    "colab": {
     "height": 2897
    },
    "colab_type": "code",
    "executionInfo": {
     "elapsed": 2728390,
     "status": "ok",
     "timestamp": 1548700486631,
     "user": {
      "displayName": "Hyunjik Kim",
      "photoUrl": "https://lh5.googleusercontent.com/-oMZCZLTka34/AAAAAAAAAAI/AAAAAAAAAAc/ENlUKunKSqo/s64/photo.jpg",
      "userId": "01465310974685628261"
     },
     "user_tz": 0
    },
    "id": "q6wQwAwjTEc_",
    "outputId": "79adcd77-3af4-41ca-d01c-7ded9ef6fa4e"
   },
   "outputs": [],
   "source": [
    "TRAINING_ITERATIONS = 100000 #@param {type:\"number\"}\n",
    "MAX_CONTEXT_POINTS = 50 #@param {type:\"number\"}\n",
    "PLOT_AFTER = 10000 #@param {type:\"number\"}\n",
    "HIDDEN_SIZE = 128 #@param {type:\"number\"}\n",
    "MODEL_TYPE = 'ANP' #@param ['NP','ANP']\n",
    "ATTENTION_TYPE = 'multihead' #@param ['uniform','laplace','dot_product','multihead']\n",
    "random_kernel_parameters=True #@param {type:\"boolean\"}\n",
    "\n",
    "tf.reset_default_graph()\n",
    "# Train dataset\n",
    "dataset_train = GPCurvesReader(\n",
    "    batch_size=16, max_num_context=MAX_CONTEXT_POINTS)\n",
    "data_train = dataset_train.generate_curves()\n",
    "\n",
    "# Test dataset\n",
    "dataset_test = GPCurvesReader(\n",
    "    batch_size=1, max_num_context=MAX_CONTEXT_POINTS, testing=True)\n",
    "data_test = dataset_test.generate_curves()\n",
    "\n",
    "\n",
    "# Sizes of the layers of the MLPs for the encoders and decoder\n",
    "# The final output layer of the decoder outputs two values, one for the mean and\n",
    "# one for the variance of the prediction at the target location\n",
    "latent_encoder_output_sizes = [HIDDEN_SIZE]*4\n",
    "num_latents = HIDDEN_SIZE\n",
    "deterministic_encoder_output_sizes= [HIDDEN_SIZE]*4\n",
    "decoder_output_sizes = [HIDDEN_SIZE]*2 + [2]\n",
    "use_deterministic_path = True\n",
    "\n",
    "# ANP with multihead attention\n",
    "if MODEL_TYPE == 'ANP':\n",
    "  attention = Attention(rep='mlp', output_sizes=[HIDDEN_SIZE]*2, \n",
    "                        att_type='multihead')\n",
    "# NP - equivalent to uniform attention\n",
    "elif MODEL_TYPE == 'NP':\n",
    "  attention = Attention(rep='identity', output_sizes=None, att_type='uniform')\n",
    "else:\n",
    "  raise NameError(\"MODEL_TYPE not among ['ANP,'NP']\")\n",
    "\n",
    "# Define the model\n",
    "model = LatentModel(latent_encoder_output_sizes, num_latents,\n",
    "                    decoder_output_sizes, use_deterministic_path, \n",
    "                    deterministic_encoder_output_sizes, attention)\n",
    "\n",
    "# Define the loss\n",
    "_, _, log_prob, _, loss = model(data_train.query, data_train.num_total_points,\n",
    "                                 data_train.target_y)\n",
    "\n",
    "# Get the predicted mean and variance at the target points for the testing set\n",
    "mu, sigma, _, _, _ = model(data_test.query, data_test.num_total_points)\n",
    "\n",
    "# Set up the optimizer and train step\n",
    "optimizer = tf.train.AdamOptimizer(1e-4)\n",
    "train_step = optimizer.minimize(loss)\n",
    "init = tf.initialize_all_variables()\n",
    "\n",
    "# Train and plot\n",
    "with tf.train.MonitoredSession() as sess:\n",
    "  sess.run(init)\n",
    "\n",
    "  for it in range(TRAINING_ITERATIONS):\n",
    "    sess.run([train_step])\n",
    "\n",
    "    # Plot the predictions in `PLOT_AFTER` intervals\n",
    "    if it % PLOT_AFTER == 0:\n",
    "      loss_value, pred_y, std_y, target_y, whole_query = sess.run(\n",
    "          [loss, mu, sigma, data_test.target_y, \n",
    "           data_test.query])\n",
    "\n",
    "      (context_x, context_y), target_x = whole_query\n",
    "      print('Iteration: {}, loss: {}'.format(it, loss_value))\n",
    "\n",
    "      # Plot the prediction and the context\n",
    "      plot_functions(target_x, target_y, context_x, context_y, pred_y, std_y)"
   ]
  }
 ],
 "metadata": {
  "colab": {
   "collapsed_sections": [],
   "last_runtime": {
    "build_target": "//learning/deepmind/dm_python:dm_notebook",
    "kind": "private"
   },
   "name": "opensource.ipynb",
   "provenance": [],
   "version": "0.3.2"
  },
  "kernelspec": {
   "display_name": "Python 3",
   "language": "python",
   "name": "python3"
  },
  "language_info": {
   "codemirror_mode": {
    "name": "ipython",
    "version": 3
   },
   "file_extension": ".py",
   "mimetype": "text/x-python",
   "name": "python",
   "nbconvert_exporter": "python",
   "pygments_lexer": "ipython3",
   "version": "3.6.7"
  }
 },
 "nbformat": 4,
 "nbformat_minor": 2
}
