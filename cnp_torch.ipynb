{
 "cells": [
  {
   "cell_type": "markdown",
   "metadata": {},
   "source": [
    "### Imports"
   ]
  },
  {
   "cell_type": "code",
   "execution_count": 1,
   "metadata": {},
   "outputs": [],
   "source": [
    "import matplotlib.pyplot as plt\n",
    "import math\n",
    "\n",
    "import numpy as np\n",
    "\n",
    "import torch\n",
    "import torch.nn as nn\n",
    "import torch.nn.functional as F\n",
    "import torch.optim as optim\n",
    "\n",
    "from tqdm import tqdm\n",
    "\n",
    "from torchvision import datasets, transforms\n",
    "\n",
    "import os\n",
    "import spect"
   ]
  },
  {
   "cell_type": "markdown",
   "metadata": {},
   "source": [
    "### Helper functions"
   ]
  },
  {
   "cell_type": "code",
   "execution_count": 2,
   "metadata": {},
   "outputs": [],
   "source": [
    "def get_context_points(data, context_points=100):\n",
    "    \n",
    "    mask = np.zeros_like(data[0])\n",
    "    \n",
    "    n,m = mask.shape\n",
    "    mask = mask.reshape(-1)\n",
    "\n",
    "    mask[:context_points] = 1\n",
    "    np.random.shuffle(mask)\n",
    "\n",
    "    mask = mask.reshape(n,m)\n",
    "    \n",
    "    data = np.array(data.tolist())\n",
    "\n",
    "    data[0][mask != 1] = 0\n",
    "    data[1][mask != 1] = 0\n",
    "\n",
    "    data = torch.tensor(data)\n",
    "    \n",
    "    return data\n",
    "\n",
    "def normalize(x):\n",
    "    x = (x - x.min())/(x.max() - x.min())\n",
    "    return x\n",
    "\n",
    "def get_log_p(data, mu, sigma):\n",
    "    return -torch.log(torch.sqrt(2*math.pi*sigma**2)) - (data - mu)**2/(2*sigma**2)"
   ]
  },
  {
   "cell_type": "markdown",
   "metadata": {},
   "source": [
    "### Model Definitions"
   ]
  },
  {
   "cell_type": "code",
   "execution_count": 3,
   "metadata": {},
   "outputs": [],
   "source": [
    "class Encoder(nn.Module):\n",
    "    def __init__(self):\n",
    "        super(Encoder, self).__init__()\n",
    "        self.fc1 = nn.Linear(4, 128)\n",
    "        self.fc2 = nn.Linear(128,128)\n",
    "        self.fc3 = nn.Linear(128,128)\n",
    "        \n",
    "\n",
    "    def forward(self, x):\n",
    "        \n",
    "        # this gets the x,y coordinates of the zero values\n",
    "        cntx = x[0].nonzero()[:,[-2,-1]]\n",
    "        \n",
    "        x_points = cntx[:,0]\n",
    "        y_points = cntx[:,1]\n",
    "        \n",
    "        # we then need to pull out real, imag intensities\n",
    "        real = x[0][x_points, y_points]\n",
    "        imag = x[1][x_points, y_points]\n",
    "\n",
    "        x = torch.stack((normalize(x_points.float()), normalize(y_points.float()), real.reshape(-1), imag.reshape(-1)))\n",
    "        \n",
    "        x.transpose_(0,1)\n",
    "        output = torch.empty((x.shape[0], 128)).to(device)\n",
    "        \n",
    "        # aggregate all outputs of intensity data found in x at the various context points\n",
    "        for i, row in enumerate(x):\n",
    "            output[i] = self.fc3(F.relu(self.fc2(self.fc1(row))))\n",
    "        \n",
    "        output = output.mean(0) # aggregation\n",
    "        return output\n",
    "    \n",
    "class Decoder(nn.Module):\n",
    "    def __init__(self, m,n):\n",
    "        super(Decoder, self).__init__()\n",
    "        self.m = m\n",
    "        self.n = n\n",
    "        self.fc1 = nn.Linear(130, 128)\n",
    "        self.fc2 = nn.Linear(128, 128)\n",
    "        self.fc3 = nn.Linear(128, 64)\n",
    "        self.fc4 = nn.Linear(64, 2)\n",
    "\n",
    "    def forward(self, r):\n",
    "\n",
    "        # we only take in r, because in this case x is all points in size of image (28,28)\n",
    "        x = torch.tensor([[i, j] for i in range(0,self.m) for j in range(0,self.n)]).float().to(device)\n",
    "        x = torch.cat((x, r.view(1,-1).repeat(1,self.m*self.n).view(self.m*self.n,128)), 1)\n",
    "        \n",
    "        h = self.fc4(F.relu(self.fc3(F.relu(self.fc2(F.relu(self.fc1(x)))))))\n",
    "        \n",
    "        mu = h[:,0]\n",
    "        log_sigma = h[:,1]\n",
    "        \n",
    "        # bound the variance\n",
    "        sigma = 0.1 + 0.9 * F.softplus(log_sigma)\n",
    "        \n",
    "        return mu, sigma\n",
    "\n"
   ]
  },
  {
   "cell_type": "markdown",
   "metadata": {},
   "source": [
    "### Load Data"
   ]
  },
  {
   "cell_type": "code",
   "execution_count": 4,
   "metadata": {},
   "outputs": [],
   "source": [
    "use_cuda = torch.cuda.is_available()\n",
    "torch.manual_seed(1)\n",
    "device = torch.device(\"cuda\" if use_cuda else \"cpu\")\n",
    "use_mnist=False"
   ]
  },
  {
   "cell_type": "code",
   "execution_count": 5,
   "metadata": {},
   "outputs": [],
   "source": [
    "kwargs = {'num_workers': 1, 'pin_memory': True} if use_cuda else {}\n",
    "\n",
    "if use_mnist:\n",
    "    train_loader = torch.utils.data.DataLoader(\n",
    "        datasets.MNIST('../data', train=True, download=True,\n",
    "                       transform=transforms.Compose([\n",
    "                           transforms.ToTensor(),\n",
    "                           transforms.Normalize((0.1307,), (0.3081,)),\n",
    "                       ])),\n",
    "        batch_size=batch_size, shuffle=True, **kwargs)\n",
    "\n",
    "\n",
    "    test_loader = torch.utils.data.DataLoader(\n",
    "        datasets.MNIST('../data', train=False, transform=transforms.Compose([\n",
    "                           transforms.ToTensor(),\n",
    "                           transforms.Normalize((0.1307,), (0.3081,)),\n",
    "                       ])),\n",
    "        batch_size=test_batch_size, shuffle=True, **kwargs)\n",
    "else:\n",
    "    dir_ = \"/mnt/pccfs/backed_up/andrew/hearables/clean/\"\n",
    "    data = torch.tensor([spect.get_stft(dir_ + x, split=True)[2] for x in os.listdir(dir_)])\n",
    "    np.random.shuffle(data)\n",
    "    train_loader = data[:300]\n",
    "    test_loader = data[301:]\n",
    "    \n"
   ]
  },
  {
   "cell_type": "markdown",
   "metadata": {},
   "source": [
    "### Hyperparameters"
   ]
  },
  {
   "cell_type": "code",
   "execution_count": 6,
   "metadata": {},
   "outputs": [],
   "source": [
    "m,n = 129,1252 #28, 28\n",
    "num_pixels = m*n\n",
    "\n",
    "batch_size = 1\n",
    "test_batch_size = 1000\n",
    "epochs = 10\n",
    "\n",
    "log_interval = 500\n",
    "\n",
    "\n",
    "min_context_points = num_pixels * 0.05 # always have at least 5% of all pixels\n",
    "max_context_points = num_pixels * 0.95 # always have at most 95% of all pixels"
   ]
  },
  {
   "cell_type": "markdown",
   "metadata": {},
   "source": [
    "### Train"
   ]
  },
  {
   "cell_type": "code",
   "execution_count": 8,
   "metadata": {
    "scrolled": true
   },
   "outputs": [
    {
     "name": "stderr",
     "output_type": "stream",
     "text": [
      "\n",
      "0it [00:00, ?it/s]\u001b[A"
     ]
    },
    {
     "ename": "RuntimeError",
     "evalue": "The size of tensor a (323016) must match the size of tensor b (161508) at non-singleton dimension 0",
     "output_type": "error",
     "traceback": [
      "\u001b[0;31m---------------------------------------------------------------------------\u001b[0m",
      "\u001b[0;31mRuntimeError\u001b[0m                              Traceback (most recent call last)",
      "\u001b[0;32m<ipython-input-8-d8b281a2d3fc>\u001b[0m in \u001b[0;36m<module>\u001b[0;34m()\u001b[0m\n\u001b[1;32m     23\u001b[0m         \u001b[0mmu\u001b[0m\u001b[0;34m,\u001b[0m \u001b[0msigma\u001b[0m \u001b[0;34m=\u001b[0m \u001b[0mdecoder\u001b[0m\u001b[0;34m(\u001b[0m\u001b[0moutput\u001b[0m\u001b[0;34m)\u001b[0m\u001b[0;34m\u001b[0m\u001b[0m\n\u001b[1;32m     24\u001b[0m \u001b[0;34m\u001b[0m\u001b[0m\n\u001b[0;32m---> 25\u001b[0;31m         \u001b[0mlog_p\u001b[0m \u001b[0;34m=\u001b[0m \u001b[0mget_log_p\u001b[0m\u001b[0;34m(\u001b[0m\u001b[0mdata\u001b[0m\u001b[0;34m.\u001b[0m\u001b[0mview\u001b[0m\u001b[0;34m(\u001b[0m\u001b[0;36m2\u001b[0m\u001b[0;34m,\u001b[0m\u001b[0mm\u001b[0m\u001b[0;34m,\u001b[0m\u001b[0mn\u001b[0m\u001b[0;34m)\u001b[0m\u001b[0;34m.\u001b[0m\u001b[0mto\u001b[0m\u001b[0;34m(\u001b[0m\u001b[0mdevice\u001b[0m\u001b[0;34m)\u001b[0m\u001b[0;34m.\u001b[0m\u001b[0mview\u001b[0m\u001b[0;34m(\u001b[0m\u001b[0;34m-\u001b[0m\u001b[0;36m1\u001b[0m\u001b[0;34m)\u001b[0m\u001b[0;34m,\u001b[0m \u001b[0mmu\u001b[0m\u001b[0;34m,\u001b[0m \u001b[0msigma\u001b[0m\u001b[0;34m)\u001b[0m\u001b[0;34m\u001b[0m\u001b[0m\n\u001b[0m\u001b[1;32m     26\u001b[0m \u001b[0;34m\u001b[0m\u001b[0m\n\u001b[1;32m     27\u001b[0m \u001b[0;34m\u001b[0m\u001b[0m\n",
      "\u001b[0;32m<ipython-input-2-4aff2a6b4f15>\u001b[0m in \u001b[0;36mget_log_p\u001b[0;34m(data, mu, sigma)\u001b[0m\n\u001b[1;32m     35\u001b[0m \u001b[0;34m\u001b[0m\u001b[0m\n\u001b[1;32m     36\u001b[0m \u001b[0;32mdef\u001b[0m \u001b[0mget_log_p\u001b[0m\u001b[0;34m(\u001b[0m\u001b[0mdata\u001b[0m\u001b[0;34m,\u001b[0m \u001b[0mmu\u001b[0m\u001b[0;34m,\u001b[0m \u001b[0msigma\u001b[0m\u001b[0;34m)\u001b[0m\u001b[0;34m:\u001b[0m\u001b[0;34m\u001b[0m\u001b[0m\n\u001b[0;32m---> 37\u001b[0;31m     \u001b[0;32mreturn\u001b[0m \u001b[0;34m-\u001b[0m\u001b[0mtorch\u001b[0m\u001b[0;34m.\u001b[0m\u001b[0mlog\u001b[0m\u001b[0;34m(\u001b[0m\u001b[0mtorch\u001b[0m\u001b[0;34m.\u001b[0m\u001b[0msqrt\u001b[0m\u001b[0;34m(\u001b[0m\u001b[0;36m2\u001b[0m\u001b[0;34m*\u001b[0m\u001b[0mmath\u001b[0m\u001b[0;34m.\u001b[0m\u001b[0mpi\u001b[0m\u001b[0;34m*\u001b[0m\u001b[0msigma\u001b[0m\u001b[0;34m**\u001b[0m\u001b[0;36m2\u001b[0m\u001b[0;34m)\u001b[0m\u001b[0;34m)\u001b[0m \u001b[0;34m-\u001b[0m \u001b[0;34m(\u001b[0m\u001b[0mdata\u001b[0m \u001b[0;34m-\u001b[0m \u001b[0mmu\u001b[0m\u001b[0;34m)\u001b[0m\u001b[0;34m**\u001b[0m\u001b[0;36m2\u001b[0m\u001b[0;34m/\u001b[0m\u001b[0;34m(\u001b[0m\u001b[0;36m2\u001b[0m\u001b[0;34m*\u001b[0m\u001b[0msigma\u001b[0m\u001b[0;34m**\u001b[0m\u001b[0;36m2\u001b[0m\u001b[0;34m)\u001b[0m\u001b[0;34m\u001b[0m\u001b[0m\n\u001b[0m\u001b[1;32m     38\u001b[0m \u001b[0;34m\u001b[0m\u001b[0m\n\u001b[1;32m     39\u001b[0m \u001b[0;32mdef\u001b[0m \u001b[0mcatch\u001b[0m\u001b[0;34m(\u001b[0m\u001b[0mfunc\u001b[0m\u001b[0;34m,\u001b[0m \u001b[0mhandle\u001b[0m\u001b[0;34m=\u001b[0m\u001b[0;32mlambda\u001b[0m \u001b[0me\u001b[0m \u001b[0;34m:\u001b[0m \u001b[0me\u001b[0m\u001b[0;34m,\u001b[0m \u001b[0;34m*\u001b[0m\u001b[0margs\u001b[0m\u001b[0;34m,\u001b[0m \u001b[0;34m**\u001b[0m\u001b[0mkwargs\u001b[0m\u001b[0;34m)\u001b[0m\u001b[0;34m:\u001b[0m\u001b[0;34m\u001b[0m\u001b[0m\n",
      "\u001b[0;31mRuntimeError\u001b[0m: The size of tensor a (323016) must match the size of tensor b (161508) at non-singleton dimension 0"
     ]
    }
   ],
   "source": [
    "encoder = Encoder().to(device)\n",
    "decoder = Decoder(m, n).to(device)\n",
    "optimizer = optim.Adam(list(encoder.parameters()) + list(decoder.parameters()))\n",
    "\n",
    "\n",
    "for epoch in range(1, epochs+1):\n",
    "    encoder.train()\n",
    "    decoder.train()\n",
    "    progress = tqdm(enumerate(train_loader))\n",
    "    for batch_idx, data, *rest in progress:\n",
    "        \n",
    "        num_context_points = np.random.randint(min_context_points, max_context_points)\n",
    "        cntx = get_context_points(data, context_points=num_context_points)\n",
    "        cntx = cntx.to(device).float()\n",
    "        optimizer.zero_grad()\n",
    "        \n",
    "        # run the model to get r\n",
    "        output = encoder(cntx)\n",
    "        mu, sigma = decoder(output)\n",
    "        \n",
    "        # ok, now we need to think about multidimensionally distributed log probability\n",
    "        log_p = get_log_p(data.view(2,m,n).to(device).view(-1), mu, sigma)\n",
    "                \n",
    "        \n",
    "        loss = -log_p.mean()\n",
    "        loss.backward()\n",
    "        optimizer.step()\n",
    "        if batch_idx % log_interval == 0:\n",
    "            progress.set_description('Loss: {:.6f} Mean: {}/{} Sig: {}/{}'.format(loss.item(), mu.max(), mu.min(), sigma.max(), sigma.min()))\n",
    "    \n",
    "    encoder.eval()\n",
    "    decoder.eval()\n",
    "    with torch.no_grad():\n",
    "        for data, *rest in test_loader:\n",
    "            data = data[0].view(1,1,m, n)\n",
    "            cntx = get_context_points(data, context_points=200)\n",
    "            data, cntx = data.to(device), cntx.to(device)\n",
    "\n",
    "            output = encoder(cntx)\n",
    "            mu, sigma = decoder(output)\n",
    "\n",
    "            if use_mnist:\n",
    "                plt.imshow(cntx.reshape(m,n), cmap='gray')\n",
    "                plt.axis(\"off\")\n",
    "                plt.show()\n",
    "\n",
    "                plt.imshow(data.reshape(m,n), cmap='gray')\n",
    "                plt.axis(\"off\")\n",
    "                plt.show()\n",
    "\n",
    "                plt.imshow(mu.detach().reshape(m,n), cmap='gray')\n",
    "                plt.axis(\"off\")\n",
    "                plt.title(\"mean\")\n",
    "                plt.show()\n",
    "\n",
    "                plt.imshow(sigma.detach().reshape(n,b), cmap='gray')\n",
    "                plt.axis(\"off\")\n",
    "                plt.title(\"variance\")\n",
    "                plt.show()\n",
    "            else:\n",
    "                spect.plot_spect(cntx.reshape(m,n))\n",
    "                spect.plot_spect(data.reshape(m,n))\n",
    "                spect.plot_spect(mu.detach().reshape(m,n))\n",
    "                spect.plot_spect(sigma.detach().reshape(m,n))"
   ]
  },
  {
   "cell_type": "code",
   "execution_count": null,
   "metadata": {},
   "outputs": [],
   "source": [
    "import pickle\n",
    "\n",
    "with open(\"encoder_spect.pkl\", \"wb\") as of:\n",
    "    pickle.dump(encoder, of)\n",
    "\n",
    "with open(\"decoder_spect.pkl\", \"wb\") as of:\n",
    "    pickle.dump(decoder, of)"
   ]
  },
  {
   "cell_type": "code",
   "execution_count": null,
   "metadata": {},
   "outputs": [],
   "source": []
  }
 ],
 "metadata": {
  "kernelspec": {
   "display_name": "Python 3",
   "language": "python",
   "name": "python3"
  },
  "language_info": {
   "codemirror_mode": {
    "name": "ipython",
    "version": 3
   },
   "file_extension": ".py",
   "mimetype": "text/x-python",
   "name": "python",
   "nbconvert_exporter": "python",
   "pygments_lexer": "ipython3",
   "version": "3.5.2"
  }
 },
 "nbformat": 4,
 "nbformat_minor": 2
}
